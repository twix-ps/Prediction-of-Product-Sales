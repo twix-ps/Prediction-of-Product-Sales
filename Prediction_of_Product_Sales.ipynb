{
  "nbformat": 4,
  "nbformat_minor": 0,
  "metadata": {
    "colab": {
      "provenance": []
    },
    "kernelspec": {
      "name": "python3",
      "display_name": "Python 3"
    },
    "language_info": {
      "name": "python"
    }
  },
  "cells": [
    {
      "cell_type": "markdown",
      "source": [
        "#**Prediction of Product Sales**\n",
        "\n",
        "\n",
        "*   Author: Issa Nassar\n"
      ],
      "metadata": {
        "id": "TEgkLEXtwEt2"
      }
    },
    {
      "cell_type": "markdown",
      "source": [
        "###Project Overview"
      ],
      "metadata": {
        "id": "Y0PgIDaZwb7z"
      }
    },
    {
      "cell_type": "markdown",
      "source": [
        "##Load and Inspect Data"
      ],
      "metadata": {
        "id": "2UIqERSawgQ5"
      }
    },
    {
      "cell_type": "code",
      "source": [],
      "metadata": {
        "id": "kAsF_PUvwfsb"
      },
      "execution_count": null,
      "outputs": []
    },
    {
      "cell_type": "markdown",
      "source": [
        "##Clean Data"
      ],
      "metadata": {
        "id": "2ZS5lhUawoJ4"
      }
    },
    {
      "cell_type": "code",
      "source": [],
      "metadata": {
        "id": "BjbhOMAFwr4L"
      },
      "execution_count": null,
      "outputs": []
    },
    {
      "cell_type": "markdown",
      "source": [
        "##Exploratory Data Analysis"
      ],
      "metadata": {
        "id": "ycJm1l9cwr-A"
      }
    },
    {
      "cell_type": "code",
      "source": [],
      "metadata": {
        "id": "swmOUrcMwtq-"
      },
      "execution_count": null,
      "outputs": []
    },
    {
      "cell_type": "markdown",
      "source": [
        "##Feature Inspection"
      ],
      "metadata": {
        "id": "JICHGs2vwvMK"
      }
    },
    {
      "cell_type": "code",
      "source": [],
      "metadata": {
        "id": "1ymfbNFpwvxF"
      },
      "execution_count": null,
      "outputs": []
    }
  ]
}